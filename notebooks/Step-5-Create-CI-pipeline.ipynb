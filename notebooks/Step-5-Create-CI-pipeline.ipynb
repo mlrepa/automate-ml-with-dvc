{
 "cells": [
  {
   "cell_type": "markdown",
   "metadata": {},
   "source": [
    "**Notes:**\n",
    "\n",
    "- Run all instuctions below on a HOST machine\n",
    "- Here we continue to work within the `experiments` branch "
   ]
  },
  {
   "cell_type": "markdown",
   "metadata": {},
   "source": [
    "# Build  CI pipeline"
   ]
  },
  {
   "cell_type": "markdown",
   "metadata": {},
   "source": [
    "## Register gitlab runners\n",
    "\n",
    "### Add credential variables\n",
    "\n",
    "1. At the repository page go to Settings -> CI / CD -> Variables;\n",
    "2. Click Expand;\n",
    "3. Add variable:\n",
    "\n",
    "```dotenv\n",
    "repo_token=<access_token>\n",
    "```\n",
    "\n",
    "**Note**: remove flag `Protect variable`.\n",
    "\n",
    "\n",
    "\n",
    "### Get register token\n",
    "\n",
    "1. go to **Settings** -> **CI / CD** -> **Specific Runners** -> **Set up a specific Runner manually**;\n",
    "2. copy  registration token from `3.Use the following registration token during setup:`;\n",
    "3. define env var:\n",
    "\n",
    "```bash\n",
    "export REGISTRATION_TOKEN=<registration_token>\n",
    "```\n",
    "\n",
    "### shell runner \n",
    "\n",
    "```bash\n",
    "gitlab-runner register \\\n",
    "            --non-interactive \\\n",
    "            -u https://gitlab.com/ \\\n",
    "            -r $REGISTRATION_TOKEN \\\n",
    "            --tag-list shell \\\n",
    "            --executor shell \n",
    "```\n",
    "\n",
    "__Notes__:\n",
    "* *--non-interactive* - to avoid gitlab-runner prompts;\n",
    "* *-u* - CI server URL.\n",
    "\n",
    "\n",
    "### docker runner\n",
    "\n",
    "```bash\n",
    "gitlab-runner register \\\n",
    "            --non-interactive \\\n",
    "            -u https://gitlab.com/ \\\n",
    "            -r $REGISTRATION_TOKEN \\\n",
    "            --tag-list docker,experiments \\\n",
    "            --executor docker \\\n",
    "            --docker-image mlrepa/cml:latest \\\n",
    "            --docker-disable-cache \\\n",
    "            --docker-volumes \"/tmp:/tmp\"\n",
    "```\n",
    "\n",
    "__Notes__:\n",
    "* *--docker-image* - docker image which will be used by default to \n",
    "run CI job if another image will not be specified in job definition;\n",
    "* *--docker-disable-cache* - avoid caching repository and data in container's volume,\n",
    "volume will not be stored; it guarantees repository is fresh at every `cml` run;\n",
    "if cache enabled repository can stay outdated;\n",
    "* *--docker-volumes* - mount folders from host to docker container; \n",
    "it gives access to local DVC remote."
   ]
  },
  {
   "cell_type": "markdown",
   "metadata": {},
   "source": [
    "## Start runners\n",
    "\n",
    "```bash\n",
    "gitlab-runner run \n",
    "```"
   ]
  },
  {
   "cell_type": "markdown",
   "metadata": {},
   "source": [
    "## Create .gitlab-ci.yml file\n",
    "\n",
    "\n",
    "\n",
    "```yaml\n",
    "variables:\n",
    "  DEPLOY_IMAGE: mlrepa/sklearn_deploy_service:latest\n",
    "  DEPLOY_PORT: 9000\n",
    "  CML_MAGE: mlrepa/cml:latest\n",
    "  PROJECT_MODEL_PATH: models/model.joblib\n",
    "  DOCKER_MODEL_PATH: /home/deploy/models/model.joblib\n",
    "\n",
    "stages:\n",
    "  - build\n",
    "  - test\n",
    "  - experiments\n",
    "```"
   ]
  },
  {
   "cell_type": "markdown",
   "metadata": {},
   "source": [
    "## Create `build` job\n",
    "\n",
    "```yaml\n",
    "\n",
    "build:\n",
    "  tags:\n",
    "    - shell\n",
    "  only:\n",
    "    refs:\n",
    "      - merge_requests\n",
    "    variables:\n",
    "      - $CI_MERGE_REQUEST_TARGET_BRANCH_NAME == \"master\"\n",
    "  stage: build\n",
    "  script:\n",
    "    - docker pull $DEPLOY_IMAGE\n",
    "    - |\n",
    "      if [ ! -d \"/tmp/$CI_PROJECT_NAME\" ]; then\n",
    "        project_url=${CI_PROJECT_URL//\"https://\"/}\n",
    "        git clone \\\n",
    "            https://oauth2:$repo_token@${project_url}.git \\\n",
    "            \"/tmp/$CI_PROJECT_NAME\"\n",
    "      fi\n",
    "      cd /tmp/$CI_PROJECT_NAME\n",
    "      git fetch\n",
    "      git checkout $CI_COMMIT_REF_NAME\n",
    "      git pull origin $CI_COMMIT_REF_NAME\n",
    "      dvc pull\n",
    "\n",
    "```"
   ]
  },
  {
   "cell_type": "markdown",
   "metadata": {},
   "source": [
    "## Create `test` job\n",
    "\n",
    "```yaml\n",
    "test:\n",
    "  tags:\n",
    "    - shell\n",
    "  only:\n",
    "    refs:\n",
    "      - merge_requests\n",
    "    variables:\n",
    "      - $CI_MERGE_REQUEST_TARGET_BRANCH_NAME == \"master\"\n",
    "  stage: test\n",
    "  script:\n",
    "    - cd /tmp/$CI_PROJECT_NAME\n",
    "    - |\n",
    "      docker run \\\n",
    "            --name=deploy-sklearn-test \\\n",
    "            --rm \\\n",
    "            -v $(pwd)/tests:/home/deploy/tests \\\n",
    "            -v $(pwd)/$PROJECT_MODEL_PATH:$DOCKER_MODEL_PATH \\\n",
    "            -e MODEL_PATH=$DOCKER_MODEL_PATH \\\n",
    "                $DEPLOY_IMAGE /bin/bash -c \"\n",
    "                    pytest /home/deploy/tests/test_model.py\n",
    "                \"\n",
    "```\n"
   ]
  },
  {
   "cell_type": "markdown",
   "metadata": {},
   "source": [
    "### Add `tests/test_model.py` module\n",
    "\n",
    "```python\n",
    "\n",
    "import joblib\n",
    "import os\n",
    "import numpy as np\n",
    "import pytest\n",
    "\n",
    "\n",
    "@pytest.fixture(scope='module')\n",
    "def model():\n",
    "\n",
    "    model_path = os.getenv('MODEL_PATH')\n",
    "    model = joblib.load(model_path)\n",
    "\n",
    "    return model\n",
    "\n",
    "\n",
    "def test_model(model):\n",
    "\n",
    "    data = [\n",
    "        {\n",
    "            'sepal_length': 4.9,\n",
    "            'sepal_width': 3.0,\n",
    "            'petal_length': 1.7,\n",
    "            'petal_width': 0.2,\n",
    "            'sepal_length_to_sepal_width': 1.63333333,\n",
    "            'petal_length_to_petal_width': 8.5\n",
    "        }\n",
    "    ]\n",
    "    values = [list(d.values()) for d in data]\n",
    "    np_array = np.array(values)\n",
    "    result = model.predict(np_array)\n",
    "\n",
    "    assert len(result) == 1\n",
    "\n",
    "    for v in result:\n",
    "        assert v in [0, 1, 2]\n",
    "```"
   ]
  },
  {
   "cell_type": "markdown",
   "metadata": {},
   "source": [
    "## Create `cml` job\n",
    "\n",
    "```yaml\n",
    "      \n",
    "cml:\n",
    "  tags:\n",
    "    - docker,experiments\n",
    "  stage: experiments\n",
    "  image: mlrepa/cml:latest\n",
    "  only:\n",
    "    refs:\n",
    "      - merge_requests\n",
    "    variables:\n",
    "      - $CI_MERGE_REQUEST_TARGET_BRANCH_NAME == \"experiments\"\n",
    "  script:\n",
    "    - apt-get install -y jq\n",
    "    - git fetch\n",
    "    - git branch --list\n",
    "    - git checkout $CI_COMMIT_REF_NAME\n",
    "    - git pull origin $CI_COMMIT_REF_NAME\n",
    "    - dvc pull --all-commits -q\n",
    "\n",
    "    # Report metrics\n",
    "    - echo \"## Metrics report for $CI_COMMIT_REF_NAME\" >> report.md\n",
    "    - |\n",
    "      echo \"## f1_score: $(cat reports/metrics.json | jq '.f1_score')\" >> report.md\n",
    "    - dvc metrics diff --show-md --all experiments  >> report.md\n",
    "    - echo >> report.md\n",
    "    - cml-publish reports/confusion_matrix.png --md >> report.md\n",
    "\n",
    "    # Publish confusion matrix diff\n",
    "    - cml-send-comment report.md\n",
    "```"
   ]
  },
  {
   "cell_type": "markdown",
   "metadata": {
    "ExecuteTime": {
     "end_time": "2020-10-29T13:20:31.122585Z",
     "start_time": "2020-10-29T13:20:31.117784Z"
    }
   },
   "source": [
    "## Commit CI pipeline\n",
    "\n",
    "```bash\n",
    "git add .gitlab-ci.yml\n",
    "git commit -m \"Build CI pipeline\"\n",
    "```\n"
   ]
  },
  {
   "cell_type": "markdown",
   "metadata": {},
   "source": [
    "## Trigger CI pipelines with merge events\n",
    "\n",
    "\n",
    "### Trigger `cml` job\n",
    "\n",
    "```bash \n",
    "git push origin experiments\n",
    "```\n",
    "\n",
    "\n",
    "### Trigger `build` and `test` jobs\n",
    "\n",
    "Create Merge Request from `experiments` to `master`\n",
    "\n"
   ]
  },
  {
   "cell_type": "code",
   "execution_count": null,
   "metadata": {},
   "outputs": [],
   "source": []
  },
  {
   "cell_type": "code",
   "execution_count": null,
   "metadata": {},
   "outputs": [],
   "source": []
  }
 ],
 "metadata": {
  "kernelspec": {
   "display_name": "Python 3",
   "language": "python",
   "name": "python3"
  },
  "language_info": {
   "codemirror_mode": {
    "name": "ipython",
    "version": 3
   },
   "file_extension": ".py",
   "mimetype": "text/x-python",
   "name": "python",
   "nbconvert_exporter": "python",
   "pygments_lexer": "ipython3",
   "version": "3.7.3"
  },
  "toc": {
   "base_numbering": 1,
   "nav_menu": {},
   "number_sections": true,
   "sideBar": true,
   "skip_h1_title": false,
   "title_cell": "Table of Contents",
   "title_sidebar": "Contents",
   "toc_cell": false,
   "toc_position": {
    "height": "calc(100% - 180px)",
    "left": "10px",
    "top": "150px",
    "width": "255.833px"
   },
   "toc_section_display": true,
   "toc_window_display": true
  },
  "varInspector": {
   "cols": {
    "lenName": 16,
    "lenType": 16,
    "lenVar": 40
   },
   "kernels_config": {
    "python": {
     "delete_cmd_postfix": "",
     "delete_cmd_prefix": "del ",
     "library": "var_list.py",
     "varRefreshCmd": "print(var_dic_list())"
    },
    "r": {
     "delete_cmd_postfix": ") ",
     "delete_cmd_prefix": "rm(",
     "library": "var_list.r",
     "varRefreshCmd": "cat(var_dic_list()) "
    }
   },
   "types_to_exclude": [
    "module",
    "function",
    "builtin_function_or_method",
    "instance",
    "_Feature"
   ],
   "window_display": false
  }
 },
 "nbformat": 4,
 "nbformat_minor": 4
}
