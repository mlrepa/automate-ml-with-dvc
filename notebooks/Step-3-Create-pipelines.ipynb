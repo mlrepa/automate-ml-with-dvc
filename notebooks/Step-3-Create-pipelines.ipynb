{
 "cells": [
  {
   "cell_type": "code",
   "execution_count": 1,
   "metadata": {
    "ExecuteTime": {
     "end_time": "2020-10-25T10:36:01.274676Z",
     "start_time": "2020-10-25T10:36:01.233317Z"
    }
   },
   "outputs": [],
   "source": [
    "%load_ext autoreload\n",
    "%autoreload 2\n",
    "\n",
    "import os\n",
    "import sys\n",
    "import yaml"
   ]
  },
  {
   "cell_type": "code",
   "execution_count": 2,
   "metadata": {
    "ExecuteTime": {
     "end_time": "2020-10-25T10:36:01.480140Z",
     "start_time": "2020-10-25T10:36:01.465253Z"
    }
   },
   "outputs": [
    {
     "name": "stdout",
     "output_type": "stream",
     "text": [
      "/home/alex/Dev/Projects/mlrepa/alex_kolosov/dvc-5-demo-project-iris\n"
     ]
    }
   ],
   "source": [
    "# Set the repository root as a working directory \n",
    "\n",
    "%cd .."
   ]
  },
  {
   "cell_type": "markdown",
   "metadata": {},
   "source": [
    "# View `params.yaml` config"
   ]
  },
  {
   "cell_type": "code",
   "execution_count": 3,
   "metadata": {
    "ExecuteTime": {
     "end_time": "2020-10-25T10:23:55.547898Z",
     "start_time": "2020-10-25T10:23:55.522906Z"
    },
    "scrolled": true
   },
   "outputs": [
    {
     "name": "stdout",
     "output_type": "stream",
     "text": [
      "base:\n",
      "  project: dvc-5-demo-project-iris\n",
      "\n",
      "  model:\n",
      "    model_name: model.joblib\n",
      "    models_folder: models\n",
      "\n",
      "  reports:\n",
      "    reports_folder: reports\n",
      "\n",
      "  random_state: 42 # random state for train/test split\n",
      "\n",
      "\n",
      "data_load:\n",
      "  dataset_csv: data/raw/iris.csv\n",
      "\n",
      "\n",
      "featurize:\n",
      "  features_path: data/processed/featured_iris.csv\n",
      "  target_column: target\n",
      "\n",
      "\n",
      "data_split:\n",
      "  folder: experiments\n",
      "  train_path: data/processed/train_iris.csv\n",
      "  test_path: data/processed/test_iris.csv\n",
      "  test_size: 0.3\n",
      "\n",
      "\n",
      "train:\n",
      "  cv: 3\n",
      "  estimator_name: svm\n",
      "  estimators:\n",
      "\n",
      "    logreg: # sklearn.linear_model.LogisticRegression\n",
      "      param_grid: # params of GridSearchCV constructor\n",
      "        C: [0.001, 0.01]\n",
      "        max_iter: [100]\n",
      "        solver: ['lbfgs']\n",
      "        multi_class: ['multinomial']\n",
      "\n",
      "    svm: # sklearn.svm.SVC\n",
      "      param_grid:\n",
      "        C: [0.1, 1.0]\n",
      "        kernel: [\"rbf\", \"linear\"]\n",
      "        gamma: [\"scale\"]\n",
      "        degree: [3, 5]\n",
      "\n",
      "evaluate:\n",
      "  metrics_file: metrics.json\n",
      "  confusion_matrix_png: confusion_matrix.png\n",
      "  classes_path: classess.csv\n",
      "\n",
      "\n",
      "\n"
     ]
    }
   ],
   "source": [
    "# Look on pipelines config \n",
    "\n",
    "with open('params.yaml') as conf_file:\n",
    "    config = conf_file.read()\n",
    "    \n",
    "print(config)"
   ]
  },
  {
   "cell_type": "markdown",
   "metadata": {},
   "source": [
    "# Load data\n",
    "\n",
    "- src/pipelines/data_load.py"
   ]
  },
  {
   "cell_type": "markdown",
   "metadata": {},
   "source": [
    "## Run as Python function "
   ]
  },
  {
   "cell_type": "code",
   "execution_count": 4,
   "metadata": {
    "ExecuteTime": {
     "end_time": "2020-10-25T10:27:53.500242Z",
     "start_time": "2020-10-25T10:27:53.462937Z"
    },
    "scrolled": true
   },
   "outputs": [],
   "source": [
    "from src.pipelines.data_load import data_load\n",
    "\n",
    "data_load('params.yaml')"
   ]
  },
  {
   "cell_type": "markdown",
   "metadata": {},
   "source": [
    "## Run as Python module"
   ]
  },
  {
   "cell_type": "code",
   "execution_count": 5,
   "metadata": {
    "ExecuteTime": {
     "end_time": "2020-10-25T10:27:55.871372Z",
     "start_time": "2020-10-25T10:27:54.438413Z"
    }
   },
   "outputs": [],
   "source": [
    "!python src/pipelines/data_load.py --config=params.yaml"
   ]
  },
  {
   "cell_type": "code",
   "execution_count": 6,
   "metadata": {
    "ExecuteTime": {
     "end_time": "2020-10-25T10:27:56.017786Z",
     "start_time": "2020-10-25T10:27:55.977232Z"
    }
   },
   "outputs": [
    {
     "name": "stdout",
     "output_type": "stream",
     "text": [
      "iris.csv\n"
     ]
    }
   ],
   "source": [
    "%%bash \n",
    "\n",
    "# Raw Iris dataset saved\n",
    "\n",
    "ls data/raw"
   ]
  },
  {
   "cell_type": "markdown",
   "metadata": {},
   "source": [
    "# Extract features\n",
    "\n",
    "- `src/pipelines/featurize.py`"
   ]
  },
  {
   "cell_type": "code",
   "execution_count": 7,
   "metadata": {
    "ExecuteTime": {
     "end_time": "2020-10-25T10:27:58.106025Z",
     "start_time": "2020-10-25T10:27:57.536929Z"
    }
   },
   "outputs": [],
   "source": [
    "!python src/pipelines/featurize.py --config=params.yaml"
   ]
  },
  {
   "cell_type": "code",
   "execution_count": 8,
   "metadata": {
    "ExecuteTime": {
     "end_time": "2020-10-25T10:28:17.731605Z",
     "start_time": "2020-10-25T10:28:17.583424Z"
    }
   },
   "outputs": [
    {
     "name": "stdout",
     "output_type": "stream",
     "text": [
      "featured_iris.csv\r\n"
     ]
    }
   ],
   "source": [
    "# Features.csv file has created\n",
    "\n",
    "!ls data/processed"
   ]
  },
  {
   "cell_type": "markdown",
   "metadata": {},
   "source": [
    "# Split train/test dataset\n",
    "\n",
    "- `src/pipelines/data_split.py`"
   ]
  },
  {
   "cell_type": "code",
   "execution_count": 9,
   "metadata": {
    "ExecuteTime": {
     "end_time": "2020-10-25T10:28:44.583664Z",
     "start_time": "2020-10-25T10:28:43.317296Z"
    }
   },
   "outputs": [],
   "source": [
    "!python src/pipelines/data_split.py --config=params.yaml"
   ]
  },
  {
   "cell_type": "code",
   "execution_count": 10,
   "metadata": {
    "ExecuteTime": {
     "end_time": "2020-10-25T10:29:28.643417Z",
     "start_time": "2020-10-25T10:29:28.499675Z"
    }
   },
   "outputs": [
    {
     "name": "stdout",
     "output_type": "stream",
     "text": [
      "featured_iris.csv  test_iris.csv  train_iris.csv\r\n"
     ]
    }
   ],
   "source": [
    "# Train and Test datsets have created\n",
    "\n",
    "!ls data/processed/"
   ]
  },
  {
   "cell_type": "markdown",
   "metadata": {},
   "source": [
    "# Train model\n",
    "\n",
    "- `src/pipelines/train.py`"
   ]
  },
  {
   "cell_type": "code",
   "execution_count": 11,
   "metadata": {
    "ExecuteTime": {
     "end_time": "2020-10-25T10:29:33.151932Z",
     "start_time": "2020-10-25T10:29:32.010967Z"
    }
   },
   "outputs": [
    {
     "name": "stdout",
     "output_type": "stream",
     "text": [
      "Fitting 3 folds for each of 8 candidates, totalling 24 fits\n",
      "[Parallel(n_jobs=1)]: Using backend SequentialBackend with 1 concurrent workers.\n",
      "[Parallel(n_jobs=1)]: Done  24 out of  24 | elapsed:    0.2s finished\n",
      "0.9517707329252986\n"
     ]
    }
   ],
   "source": [
    "!python src/pipelines/train.py --config=params.yaml"
   ]
  },
  {
   "cell_type": "code",
   "execution_count": 12,
   "metadata": {},
   "outputs": [
    {
     "name": "stdout",
     "output_type": "stream",
     "text": [
      "model.joblib\r\n"
     ]
    }
   ],
   "source": [
    "# model is created\n",
    "!ls models/"
   ]
  },
  {
   "cell_type": "markdown",
   "metadata": {},
   "source": [
    "# Evaluate model \n",
    "\n",
    "- add `reports/` folder \n",
    "- add `src/pipelines/evaluate.py`"
   ]
  },
  {
   "cell_type": "code",
   "execution_count": 13,
   "metadata": {
    "ExecuteTime": {
     "end_time": "2020-10-25T10:38:10.201770Z",
     "start_time": "2020-10-25T10:38:07.719011Z"
    }
   },
   "outputs": [
    {
     "name": "stdout",
     "output_type": "stream",
     "text": [
      "F1 metrics file saved to : reports/metrics.json\n",
      "Confusion matrix saved to : reports/confusion_matrix.png\n",
      "Classes actual/predicted saved to : reports/classess.csv\n"
     ]
    }
   ],
   "source": [
    "!python src/pipelines/evaluate.py --config=params.yaml"
   ]
  },
  {
   "cell_type": "code",
   "execution_count": 14,
   "metadata": {
    "ExecuteTime": {
     "end_time": "2020-10-25T10:38:11.927396Z",
     "start_time": "2020-10-25T10:38:11.786458Z"
    }
   },
   "outputs": [
    {
     "name": "stdout",
     "output_type": "stream",
     "text": [
      "classess.csv  confusion_matrix.png  metrics.json\r\n"
     ]
    }
   ],
   "source": [
    "# metrics file eval.txt is created\n",
    "!ls reports"
   ]
  },
  {
   "cell_type": "code",
   "execution_count": 15,
   "metadata": {
    "ExecuteTime": {
     "end_time": "2020-10-25T10:38:19.458249Z",
     "start_time": "2020-10-25T10:38:19.323808Z"
    }
   },
   "outputs": [
    {
     "name": "stdout",
     "output_type": "stream",
     "text": [
      "{\"f1_score\": 1.0}"
     ]
    }
   ],
   "source": [
    "!cat reports/metrics.json"
   ]
  },
  {
   "cell_type": "code",
   "execution_count": 17,
   "metadata": {
    "ExecuteTime": {
     "end_time": "2020-10-25T10:38:51.059334Z",
     "start_time": "2020-10-25T10:38:51.043192Z"
    }
   },
   "outputs": [
    {
     "data": {
      "image/png": "[encoded data removed]",
      "text/plain": [
       "<IPython.core.display.Image object>"
      ]
     },
     "execution_count": 17,
     "metadata": {},
     "output_type": "execute_result"
    }
   ],
   "source": [
    "# Display confusion matrix\n",
    "\n",
    "from IPython.display import Image\n",
    "Image('reports/confusion_matrix.png')"
   ]
  },
  {
   "cell_type": "code",
   "execution_count": null,
   "metadata": {},
   "outputs": [],
   "source": []
  },
  {
   "cell_type": "code",
   "execution_count": null,
   "metadata": {},
   "outputs": [],
   "source": []
  }
 ],
 "metadata": {
  "kernelspec": {
   "display_name": "Python 3",
   "language": "python",
   "name": "python3"
  },
  "language_info": {
   "codemirror_mode": {
    "name": "ipython",
    "version": 3
   },
   "file_extension": ".py",
   "mimetype": "text/x-python",
   "name": "python",
   "nbconvert_exporter": "python",
   "pygments_lexer": "ipython3",
   "version": "3.7.3"
  },
  "toc": {
   "base_numbering": 1,
   "nav_menu": {},
   "number_sections": true,
   "sideBar": true,
   "skip_h1_title": false,
   "title_cell": "Table of Contents",
   "title_sidebar": "Contents",
   "toc_cell": false,
   "toc_position": {},
   "toc_section_display": true,
   "toc_window_display": true
  },
  "varInspector": {
   "cols": {
    "lenName": 16,
    "lenType": 16,
    "lenVar": 40
   },
   "kernels_config": {
    "python": {
     "delete_cmd_postfix": "",
     "delete_cmd_prefix": "del ",
     "library": "var_list.py",
     "varRefreshCmd": "print(var_dic_list())"
    },
    "r": {
     "delete_cmd_postfix": ") ",
     "delete_cmd_prefix": "rm(",
     "library": "var_list.r",
     "varRefreshCmd": "cat(var_dic_list()) "
    }
   },
   "types_to_exclude": [
    "module",
    "function",
    "builtin_function_or_method",
    "instance",
    "_Feature"
   ],
   "window_display": false
  }
 },
 "nbformat": 4,
 "nbformat_minor": 4
}
