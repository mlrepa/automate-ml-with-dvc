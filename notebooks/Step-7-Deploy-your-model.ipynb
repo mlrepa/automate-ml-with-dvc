{
 "cells": [
  {
   "cell_type": "markdown",
   "metadata": {},
   "source": [
    "__Notes:___\n",
    "\n",
    "- In step 5 we created CI pipeline with jobs `build`, `test` and `experiments`.\n",
    "- Here add a new job `deploy` for deploying model on `merge request` event to branch `master`"
   ]
  },
  {
   "cell_type": "markdown",
   "metadata": {},
   "source": [
    "# Checkout to `experiments` branch and pull last \n",
    "\n",
    "```bash \n",
    "\n",
    "git checkout experiments\n",
    "git pull\n",
    "```"
   ]
  },
  {
   "cell_type": "markdown",
   "metadata": {},
   "source": [
    "# Add `deploy` job to CI/CD pipeline \n",
    "\n",
    "\n",
    "## Add new stage\n",
    "\n",
    "```yaml\n",
    "\n",
    "stages:\n",
    "  - build\n",
    "  - test\n",
    "  - experiments\n",
    "  - deploy # <- add new stage \n",
    "```\n",
    "\n",
    "\n",
    "### Add `deploy` job\n",
    "\n",
    "```yaml\n",
    "\n",
    "deploy:\n",
    "  tags:\n",
    "    - shell\n",
    "  only:\n",
    "    refs:\n",
    "      - merge_requests\n",
    "    variables:\n",
    "      - $CI_MERGE_REQUEST_TARGET_BRANCH_NAME == \"master\"\n",
    "  stage: deploy\n",
    "  script:\n",
    "    - cd /tmp/$CI_PROJECT_NAME\n",
    "    - pwd\n",
    "    - |\n",
    "      if ! curl http://localhost:9000/healthcheck; then\n",
    "        docker run \\\n",
    "            -d \\\n",
    "            --name=deploy-sklearn-$(date +\"%Y-%m-%d-%H-%M-%S\") \\\n",
    "            -v $(pwd)/$PROJECT_MODEL_PATH:$DOCKER_MODEL_PATH \\\n",
    "            -e MODEL_PATH=$DOCKER_MODEL_PATH \\\n",
    "            -p $DEPLOY_PORT:9000 \\\n",
    "                $DEPLOY_IMAGE\n",
    "      else\n",
    "        curl -X POST http://localhost:9000/reload-model\n",
    "      fi\n",
    "\n",
    "```"
   ]
  },
  {
   "cell_type": "markdown",
   "metadata": {},
   "source": [
    "# Push commits to GitLab repo\n",
    "\n",
    "```bash\n",
    "git add .gitlab-ci.yml\n",
    "git commit -m \"Add CI job 'deploy'\"\n",
    "git push origin experiments\n",
    "```"
   ]
  },
  {
   "cell_type": "markdown",
   "metadata": {},
   "source": [
    "# Test deployment (on local HOST) \n",
    "\n",
    "## Check connection\n",
    "\n",
    "\n",
    "```bash \n",
    "\n",
    "curl http://localhost:9000/healthcheck\n",
    " \n",
    "```\n",
    "\n",
    "## Get predictions\n",
    "\n",
    "\n",
    "```bash \n",
    "\n",
    "curl http://localhost:9000/predict \\\n",
    "    -d '{\"data\":[[value11,value12,...,value1N],...,[value1M,valueM2,...,valueMN]]}'\n",
    "\n",
    "``` \n",
    "        \n",
    "where:\n",
    "\n",
    "M - number if rows to predict;\n",
    "N - number if columns.\n",
    "\n",
    "Columns order is the same as in train dataset.\n",
    "\n",
    "Example:\n",
    "\n",
    "```bash\n",
    "\n",
    "curl -POST http://localhost:9000/predict \\\n",
    "     -d '{\"data\":[[4,3,2,1,0,0], [1,3,2,1,2,0]]}'\n",
    "        \n",
    "```"
   ]
  },
  {
   "cell_type": "code",
   "execution_count": 2,
   "metadata": {
    "ExecuteTime": {
     "end_time": "2020-10-29T15:24:28.264080Z",
     "start_time": "2020-10-29T15:24:28.111453Z"
    }
   },
   "outputs": [
    {
     "name": "stdout",
     "output_type": "stream",
     "text": [
      "OK"
     ]
    }
   ],
   "source": [
    "!curl http://localhost:9000/healthcheck"
   ]
  },
  {
   "cell_type": "code",
   "execution_count": 7,
   "metadata": {
    "ExecuteTime": {
     "end_time": "2020-10-29T15:25:36.642713Z",
     "start_time": "2020-10-29T15:25:36.605392Z"
    },
    "scrolled": true
   },
   "outputs": [
    {
     "name": "stdout",
     "output_type": "stream",
     "text": [
      "{\n",
      "  \"predictions\": [\n",
      "    1, \n",
      "    1\n",
      "  ]\n",
      "}\n"
     ]
    },
    {
     "name": "stderr",
     "output_type": "stream",
     "text": [
      "  % Total    % Received % Xferd  Average Speed   Time    Time     Time  Current\n",
      "                                 Dload  Upload   Total   Spent    Left  Speed\n",
      "\r",
      "  0     0    0     0    0     0      0      0 --:--:-- --:--:-- --:--:--     0\r",
      "100    80  100    41  100    39   4555   4333 --:--:-- --:--:-- --:--:--  8888\n"
     ]
    }
   ],
   "source": [
    "%%bash \n",
    "\n",
    "curl -POST http://localhost:9000/predict \\\n",
    "     -d '{\"data\":[[4,3,2,1,0,0], [1,3,2,1,2,0]]}'"
   ]
  },
  {
   "cell_type": "code",
   "execution_count": null,
   "metadata": {},
   "outputs": [],
   "source": []
  }
 ],
 "metadata": {
  "kernelspec": {
   "display_name": "Python 3",
   "language": "python",
   "name": "python3"
  },
  "language_info": {
   "codemirror_mode": {
    "name": "ipython",
    "version": 3
   },
   "file_extension": ".py",
   "mimetype": "text/x-python",
   "name": "python",
   "nbconvert_exporter": "python",
   "pygments_lexer": "ipython3",
   "version": "3.7.3"
  },
  "toc": {
   "base_numbering": 1,
   "nav_menu": {},
   "number_sections": true,
   "sideBar": true,
   "skip_h1_title": false,
   "title_cell": "Table of Contents",
   "title_sidebar": "Contents",
   "toc_cell": false,
   "toc_position": {},
   "toc_section_display": true,
   "toc_window_display": true
  },
  "varInspector": {
   "cols": {
    "lenName": 16,
    "lenType": 16,
    "lenVar": 40
   },
   "kernels_config": {
    "python": {
     "delete_cmd_postfix": "",
     "delete_cmd_prefix": "del ",
     "library": "var_list.py",
     "varRefreshCmd": "print(var_dic_list())"
    },
    "r": {
     "delete_cmd_postfix": ") ",
     "delete_cmd_prefix": "rm(",
     "library": "var_list.r",
     "varRefreshCmd": "cat(var_dic_list()) "
    }
   },
   "types_to_exclude": [
    "module",
    "function",
    "builtin_function_or_method",
    "instance",
    "_Feature"
   ],
   "window_display": false
  }
 },
 "nbformat": 4,
 "nbformat_minor": 4
}
