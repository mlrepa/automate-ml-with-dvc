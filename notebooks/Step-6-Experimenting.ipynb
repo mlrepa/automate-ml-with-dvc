{
 "cells": [
  {
   "cell_type": "markdown",
   "metadata": {},
   "source": [
    "# About"
   ]
  },
  {
   "cell_type": "markdown",
   "metadata": {},
   "source": [
    "__Notes:__\n",
    "\n",
    "- We will create experiments with different configurations\n",
    "- Then we will compare metrics for different experiments using _DVC_"
   ]
  },
  {
   "cell_type": "markdown",
   "metadata": {},
   "source": [
    "# Experiment 1 - Tune LogisticRegression"
   ]
  },
  {
   "cell_type": "markdown",
   "metadata": {},
   "source": [
    "## Create branch for experiment"
   ]
  },
  {
   "cell_type": "markdown",
   "metadata": {},
   "source": [
    "```bash\n",
    "git checkout -b exp1-tune-logreg\n",
    "git branch\n",
    "```"
   ]
  },
  {
   "cell_type": "markdown",
   "metadata": {},
   "source": [
    "## Update config/pipeline_config.yml file\n",
    "\n",
    "add options for **C** hyperparamter in section `train:estimators:logreg:param_grid`:\n",
    "\n",
    "\n",
    "```yaml\n",
    "...\n",
    "        param_grid:\n",
    "              C: [0.1,1.0,10]\n",
    "...\n",
    "```\n",
    "\n",
    "as result you should have LogisticRegression config:\n",
    "\n",
    "```yaml\n",
    "...\n",
    "train:\n",
    "  cv: 3\n",
    "  estimator_name: logreg\n",
    "\n",
    "  estimators:\n",
    "\n",
    "    logreg: # sklearn.linear_model.LogisticRegression\n",
    "      param_grid: # params of GridSearchCV constructor\n",
    "        C: [0.1,1.0,10]\n",
    "        max_iter: [100]\n",
    "        solver: ['lbfgs']\n",
    "        multi_class: ['multinomial']\n",
    "...\n",
    "\n",
    "```\n"
   ]
  },
  {
   "cell_type": "markdown",
   "metadata": {},
   "source": [
    "## Run experiment and save results "
   ]
  },
  {
   "cell_type": "markdown",
   "metadata": {},
   "source": [
    "Reproduce pipeline with new params\n",
    "\n",
    "```bash\n",
    "dvc repro \n",
    "```"
   ]
  },
  {
   "cell_type": "markdown",
   "metadata": {},
   "source": [
    "## Commit experiment results\n",
    "\n",
    "```bash\n",
    "git add .\n",
    "git commit -m \"Experiment 1 with LogisticRegression hyperparameters\"\n",
    "git tag -a \"exp1_tune_logreg\" -m \"Experiment 1 with LogisticRegression hyperparameters\"\n",
    "dvc push\n",
    "git push origin exp1-tune-logreg\n",
    "```"
   ]
  },
  {
   "cell_type": "markdown",
   "metadata": {},
   "source": [
    "## Show metrics \n",
    "\n",
    "```bash\n",
    "dvc metrics show\n",
    "```"
   ]
  },
  {
   "cell_type": "markdown",
   "metadata": {},
   "source": [
    "## Checkout back to `experiments` and pull last changes:\n",
    "\n",
    "```bash\n",
    "git checkout experiments\n",
    "git pull origin experiments\n",
    "\n",
    "```"
   ]
  },
  {
   "cell_type": "code",
   "execution_count": null,
   "metadata": {},
   "outputs": [],
   "source": []
  },
  {
   "cell_type": "markdown",
   "metadata": {},
   "source": [
    "# Experiment 2 - Use SVM"
   ]
  },
  {
   "cell_type": "markdown",
   "metadata": {},
   "source": [
    "## Create branch for experiment"
   ]
  },
  {
   "cell_type": "markdown",
   "metadata": {},
   "source": [
    "```bash\n",
    "git checkout -b exp2-svm\n",
    "git branch\n",
    "```"
   ]
  },
  {
   "cell_type": "markdown",
   "metadata": {},
   "source": [
    "## Add SVC config to config/pipeline_config.yml file\n",
    "\n",
    "in section `train:estimators:logreg:param_grid`:\n",
    "\n",
    "\n",
    "```yaml\n",
    "...\n",
    "        param_grid:\n",
    "              C: [0.1,1.0,10]\n",
    "...\n",
    "```\n",
    "\n",
    "as result you should have SVC config:\n",
    "\n",
    "```yaml\n",
    "...\n",
    "train:\n",
    "  cv: 3\n",
    "  estimator_name: svm\n",
    "  estimators:\n",
    "        \n",
    "    svm: # sklearn.svm.SVC\n",
    "      param_grid:\n",
    "        C: [0.1,1.0,10]\n",
    "        kernel: [\"rbf\", \"linear\"]\n",
    "        gamma: [\"scale\"]\n",
    "        degree: [3, 5]\n",
    "...\n",
    "```\n"
   ]
  },
  {
   "cell_type": "markdown",
   "metadata": {},
   "source": [
    "## Run experiment and save results "
   ]
  },
  {
   "cell_type": "markdown",
   "metadata": {},
   "source": [
    "Reproduce pipeline with new params\n",
    "\n",
    "```bash\n",
    "dvc repro\n",
    "```"
   ]
  },
  {
   "cell_type": "markdown",
   "metadata": {},
   "source": [
    "## Commit experiment results\n",
    "\n",
    "```bash\n",
    "git add .\n",
    "git commit -m \"Experiment 2 with SVM estimator\"\n",
    "git tag -a \"exp2_svm\" -m \"Experiment 2 with SVM estimator\"\n",
    "dvc push\n",
    "git push origin exp2-svm\n",
    "```"
   ]
  },
  {
   "cell_type": "markdown",
   "metadata": {},
   "source": [
    "## Show metrics \n",
    "\n",
    "```bash\n",
    "dvc metrics show\n",
    "```"
   ]
  },
  {
   "cell_type": "markdown",
   "metadata": {},
   "source": [
    "## Do Merge on GitLab"
   ]
  },
  {
   "cell_type": "code",
   "execution_count": null,
   "metadata": {},
   "outputs": [],
   "source": []
  },
  {
   "cell_type": "markdown",
   "metadata": {},
   "source": [
    "# Compare experiments\n",
    "\n",
    "__List experiments__\n",
    "\n",
    "```bash\n",
    "git tag --list\n",
    "```\n",
    "\n",
    "__View and compare metrics__\n",
    "\n",
    "1) Last experiment metrics:\n",
    "\n",
    "```bash\n",
    "dvc metrics show\n",
    "```\n",
    "\n",
    "2) View and compare metrics for all experiments:\n",
    "\n",
    "```bash\n",
    "dvc metrics show -a\n",
    "```\n",
    "\n",
    "3) Сontrol metrics view \n",
    "\n",
    "```bash\n",
    "dvc metrics show --show-json -a\n",
    "```\n",
    "\n",
    "4) View and compare metrics for all tags:\n",
    "\n",
    "```bash\n",
    "dvc metrics show -T\n",
    "```\n"
   ]
  },
  {
   "cell_type": "code",
   "execution_count": null,
   "metadata": {},
   "outputs": [],
   "source": []
  }
 ],
 "metadata": {
  "kernelspec": {
   "display_name": "Python 3",
   "language": "python",
   "name": "python3"
  },
  "language_info": {
   "codemirror_mode": {
    "name": "ipython",
    "version": 3
   },
   "file_extension": ".py",
   "mimetype": "text/x-python",
   "name": "python",
   "nbconvert_exporter": "python",
   "pygments_lexer": "ipython3",
   "version": "3.7.3"
  },
  "toc": {
   "base_numbering": 1,
   "nav_menu": {},
   "number_sections": true,
   "sideBar": true,
   "skip_h1_title": false,
   "title_cell": "Table of Contents",
   "title_sidebar": "Contents",
   "toc_cell": false,
   "toc_position": {},
   "toc_section_display": true,
   "toc_window_display": true
  },
  "varInspector": {
   "cols": {
    "lenName": 16,
    "lenType": 16,
    "lenVar": 40
   },
   "kernels_config": {
    "python": {
     "delete_cmd_postfix": "",
     "delete_cmd_prefix": "del ",
     "library": "var_list.py",
     "varRefreshCmd": "print(var_dic_list())"
    },
    "r": {
     "delete_cmd_postfix": ") ",
     "delete_cmd_prefix": "rm(",
     "library": "var_list.r",
     "varRefreshCmd": "cat(var_dic_list()) "
    }
   },
   "types_to_exclude": [
    "module",
    "function",
    "builtin_function_or_method",
    "instance",
    "_Feature"
   ],
   "window_display": false
  }
 },
 "nbformat": 4,
 "nbformat_minor": 4
}
